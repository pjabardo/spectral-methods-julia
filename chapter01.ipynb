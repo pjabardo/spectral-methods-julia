{
 "cells": [
  {
   "cell_type": "markdown",
   "metadata": {},
   "source": [
    "# Chapter 01: Differentiation Matgrices\n",
    "\n"
   ]
  },
  {
   "cell_type": "code",
   "execution_count": null,
   "metadata": {},
   "outputs": [],
   "source": [
    "using PyPlot\n",
    "using SparseArrays\n",
    "using LinearAlgebra"
   ]
  },
  {
   "cell_type": "markdown",
   "metadata": {},
   "source": [
    "## Program 1"
   ]
  },
  {
   "cell_type": "code",
   "execution_count": null,
   "metadata": {},
   "outputs": [],
   "source": [
    "# Convergence of fourth-order finite differences\n",
    "\n",
    "function diff4th(N, f, df, a=-π, b=π)\n",
    "    h =(b-a) / N\n",
    "    x = a .+ (1:N) * h\n",
    "    u = f.(x)\n",
    "    du = df.(x)\n",
    "    e = ones(N)\n",
    "    D = sparse(1:N, [2:N; 1], 2*e/3, N, N) - \n",
    "        sparse(1:N, [3:N; 1; 2], e/12, N, N) \n",
    "    D = (D-D') / h\n",
    "    return norm(D*u - du)\n",
    "    \n",
    "end\n"
   ]
  },
  {
   "cell_type": "code",
   "execution_count": null,
   "metadata": {},
   "outputs": [],
   "source": [
    "f(x) = exp(sin(x))\n",
    "df(x) = cos(x)*f(x)\n",
    "N = 2 .^(3:12)\n",
    "ε = diff4th.(N, f, df);\n",
    "\n",
    "loglog(N, ε, \"k.\")\n",
    "grid(linestyle=\":\")\n",
    "plot(N, N.^(-4), \"--\")\n",
    "text(105, 5e-8, \"\\$N^{-4}\\$\")"
   ]
  },
  {
   "cell_type": "markdown",
   "metadata": {},
   "source": [
    "## Program 2"
   ]
  },
  {
   "cell_type": "code",
   "execution_count": null,
   "metadata": {},
   "outputs": [],
   "source": [
    "using ToeplitzMatrices"
   ]
  },
  {
   "cell_type": "code",
   "execution_count": null,
   "metadata": {},
   "outputs": [],
   "source": [
    "function periodicSpectral(N, f, df; plt=false)\n",
    "    h = 2π/N\n",
    "    x = -π .+ (1:N)*h\n",
    "    u = f.(x)\n",
    "    du = df.(x)\n",
    "    column = [0; .5*(-1).^(1:N-1).*cot.((1:N-1)*h/2)]\n",
    "    D = Toeplitz(column, column[[1; N:-1:2]])\n",
    "    \n",
    "    du1 = D*u\n",
    "    ε = du1 - du\n",
    "    if plt\n",
    "        xx = range(-2π, 2π, length=N*30) \n",
    "        yy = df.(xx)\n",
    "        plot(xx, yy)\n",
    "        plot(x, du1, \"ro\")\n",
    "        imax = argmax(abs.(ε))\n",
    "        axvline(x[imax])\n",
    "    end\n",
    "    return norm(ε)\n",
    "end"
   ]
  },
  {
   "cell_type": "code",
   "execution_count": null,
   "metadata": {},
   "outputs": [],
   "source": [
    "periodicSpectral(26, f, df, plt=true)"
   ]
  },
  {
   "cell_type": "code",
   "execution_count": null,
   "metadata": {},
   "outputs": [],
   "source": [
    "N = 2:2:100\n",
    "ε = periodicSpectral.(N, f, df);\n",
    "\n",
    "loglog(N, ε, \"k.\")\n",
    "grid(linestyle=\":\")\n",
    "#plot(N, N.^(-4), \"--\")\n",
    "#text(105, 5e-8, \"\\$N^{-4}\\$\")"
   ]
  },
  {
   "cell_type": "markdown",
   "metadata": {},
   "source": [
    "# Exercícios"
   ]
  },
  {
   "cell_type": "markdown",
   "metadata": {},
   "source": [
    "## Exercício 1.1\n"
   ]
  },
  {
   "cell_type": "code",
   "execution_count": null,
   "metadata": {},
   "outputs": [],
   "source": [
    "using Polynomials"
   ]
  },
  {
   "cell_type": "code",
   "execution_count": null,
   "metadata": {},
   "outputs": [],
   "source": [
    "# Calculates the numerator of the kth lagrange polynomial\n",
    "function lagrnum(pts, k)\n",
    "    npts = length(pts)\n",
    "    roots = zeros(Int, npts-1)\n",
    "    idx = 1\n",
    "    for i in 1:k-1\n",
    "        roots[idx] = pts[i]\n",
    "        idx += 1\n",
    "    end\n",
    "    for i in k+1:npts\n",
    "        roots[idx] = pts[i]\n",
    "        idx += 1\n",
    "    end\n",
    "    return fromroots(roots)\n",
    "end\n",
    "# Calculates the denominator of the kth lagrange polynomial\n",
    "function lagrden(pts, k)\n",
    "    npts = length(pts)\n",
    "    den = 1\n",
    "    for i in 1:k-1\n",
    "        den *= (pts[k]-pts[i])\n",
    "    end\n",
    "    for i in k+1:npts\n",
    "        den *= (pts[k]-pts[i])\n",
    "    end\n",
    "    return den\n",
    "end\n",
    "\n",
    "    \n"
   ]
  },
  {
   "cell_type": "code",
   "execution_count": null,
   "metadata": {},
   "outputs": [],
   "source": [
    "lagrden([1,2,3], 2)"
   ]
  },
  {
   "cell_type": "code",
   "execution_count": null,
   "metadata": {},
   "outputs": [],
   "source": [
    "function dcoeffs(n)\n",
    "    pts = -n:n\n",
    "    npts = length(pts)\n",
    "    \n",
    "    lnum = [lagrnum(pts, k) for k in 1:npts]\n",
    "    lden = [lagrden(pts, k) for k in 1:npts]\n",
    "    dnum = [derivative(l) for l in lnum]\n",
    "    coefs = [derivative(lnum[k])(0)/lden[k] for k in 1:npts]\n",
    "    return coefs\n",
    "end\n",
    "\n",
    "function diffmat(n, N, h=1.0)\n",
    "    \n",
    "    p = dcoeffs(n)/h\n",
    "    npts = 2n + 1\n",
    "    vc = zeros(N)\n",
    "    vr = zeros(N)\n",
    "    \n",
    "    for i in 1:n\n",
    "        vr[i+1] = p[i+n+1]\n",
    "        vc[i+1] = p[n+1-i]\n",
    "        vc[N-i+1] = p[i+n+1]\n",
    "        vr[N-i+1] = p[n+1-i]\n",
    "    end\n",
    "    return Toeplitz(vc, vr)\n",
    "end\n",
    "    \n",
    "    "
   ]
  },
  {
   "cell_type": "code",
   "execution_count": null,
   "metadata": {},
   "outputs": [],
   "source": [
    "diffmat(1, 8, 1.0)"
   ]
  },
  {
   "cell_type": "code",
   "execution_count": null,
   "metadata": {},
   "outputs": [],
   "source": [
    "function test_diff(n, N, f, df, a=-π, b=π; plt=false)\n",
    "    h =(b-a) / N\n",
    "    x = a .+ (1:N) * h\n",
    "    u = f.(x)\n",
    "    du = df.(x)\n",
    "    D = diffmat(n, N, h)\n",
    "    du1 = D*u\n",
    "    if plt\n",
    "        xx = range(a, b, length=N*20)\n",
    "        dyy = df.(xx)\n",
    "        plot(xx, dyy)\n",
    "        plot(x, du1, \"ro\")\n",
    "    end\n",
    "    return norm(du1 - du)\n",
    "end"
   ]
  },
  {
   "cell_type": "code",
   "execution_count": null,
   "metadata": {},
   "outputs": [],
   "source": [
    "N = 2 .^(3:12)\n",
    "ε₁ = test_diff.(1, N, f, df);\n",
    "ε₂ = test_diff.(2, N, f, df);\n",
    "ε₃ = test_diff.(3, N, f, df);\n",
    "ε₄ = test_diff.(4, N, f, df);\n",
    "loglog(N, ε₁, \"o:\", label=\"n=1\")\n",
    "loglog(N, ε₂, \"x:\", label=\"n=2\")\n",
    "loglog(N, ε₃, \"+:\", label=\"n=3\")\n",
    "loglog(N, ε₄, \"s:\", label=\"n=4\")\n",
    "grid(linestyle=\":\")\n",
    "legend()\n",
    "#plot(N, N.^(-4), \"--\")\n",
    "#text(105, 5e-8, \"\\$N^{-4}\\$\")"
   ]
  },
  {
   "cell_type": "markdown",
   "metadata": {},
   "source": [
    "## Exercício 1.2"
   ]
  },
  {
   "cell_type": "markdown",
   "metadata": {},
   "source": [
    "Por construção, a matriz é de Toeplitz e na sua construção, a partir da primeira coluna e primeira linha vê-se que a matriz é circulante.\n",
    "Na função `diffmat` existe o seguinte trecho:\n",
    "\n",
    "```julia\n",
    "    for i in 1:n\n",
    "        vr[i+1] = p[i+n+1]\n",
    "        vc[i+1] = p[n+1-i]\n",
    "        vc[N-i+1] = p[i+n+1]\n",
    "        vr[N-i+1] = p[n+1-i]\n",
    "    end\n",
    "```"
   ]
  },
  {
   "cell_type": "markdown",
   "metadata": {},
   "source": [
    "## Exercício 1.3"
   ]
  },
  {
   "cell_type": "code",
   "execution_count": null,
   "metadata": {},
   "outputs": [],
   "source": [
    "periodicSpectral.(14, f, df, plt=true)"
   ]
  },
  {
   "cell_type": "markdown",
   "metadata": {},
   "source": [
    "A função \n",
    "\n",
    "$$\n",
    "e^{\\sin x}\n",
    "$$\n",
    "\n",
    "tem o jeitão da função seno. Ao se introduzir um cosseno, a aproximação não melhora significativamente. Ao se introduzir um novo seno na séria a coisa melhora.\n"
   ]
  },
  {
   "cell_type": "markdown",
   "metadata": {},
   "source": [
    "## Exercício 1.4"
   ]
  },
  {
   "cell_type": "code",
   "execution_count": null,
   "metadata": {},
   "outputs": [],
   "source": [
    "N = 2 .^(3:16)\n",
    "ε = diff4th.(N, f, df);\n",
    "\n",
    "loglog(N, ε, \"k.\")\n",
    "grid(linestyle=\":\")\n",
    "plot(N, N.^(-4), \"--\")\n",
    "text(105, 5e-8, \"\\$N^{-4}\\$\")"
   ]
  },
  {
   "cell_type": "markdown",
   "metadata": {},
   "source": [
    "\n",
    "**Floating point errors**"
   ]
  },
  {
   "cell_type": "code",
   "execution_count": null,
   "metadata": {},
   "outputs": [],
   "source": [
    "g1(x) = exp(sin(x)^2)\n",
    "dg1(x) = g1(x) * 2*sin(x)*cos(x)\n",
    "N = 2 .^(3:12)\n",
    "ε = diff4th.(N, g1, dg1);\n",
    "\n",
    "loglog(N, ε, \"k.\")\n",
    "grid(linestyle=\":\")\n",
    "plot(N, N.^(-4), \"--\")\n",
    "text(105, 5e-8, \"\\$N^{-4}\\$\")"
   ]
  },
  {
   "cell_type": "code",
   "execution_count": null,
   "metadata": {},
   "outputs": [],
   "source": [
    "g2(x) = exp(sin(x)*abs(sin(x)))\n",
    "dg2(x) = g2(x) * (cos(x)*abs(sin(x)) + sin(x)*sign(x)*cos(x))\n",
    "N = 2 .^(3:12)\n",
    "ε = diff4th.(N, g2, dg2);\n",
    "\n",
    "loglog(N, ε, \"k.\")\n",
    "grid(linestyle=\":\")\n",
    "plot(N, N.^(-4), \"--\")\n",
    "text(105, 5e-8, \"\\$N^{-4}\\$\")\n",
    "plot(N, N.^(-1), \"--\")\n",
    "text(105, 1e-3, \"\\$N^{-1}\\$\")\n"
   ]
  },
  {
   "cell_type": "code",
   "execution_count": null,
   "metadata": {},
   "outputs": [],
   "source": [
    "x = -π:0.001:π\n",
    "y = g2.(x)\n",
    "plot(x,y)"
   ]
  },
  {
   "cell_type": "markdown",
   "metadata": {},
   "source": []
  }
 ],
 "metadata": {
  "@webio": {
   "lastCommId": null,
   "lastKernelId": null
  },
  "kernelspec": {
   "display_name": "Julia 1.4.1",
   "language": "julia",
   "name": "julia-1.4"
  },
  "language_info": {
   "file_extension": ".jl",
   "mimetype": "application/julia",
   "name": "julia",
   "version": "1.4.1"
  }
 },
 "nbformat": 4,
 "nbformat_minor": 4
}
