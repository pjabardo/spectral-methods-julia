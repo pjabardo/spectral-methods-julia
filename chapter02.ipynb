{
 "cells": [
  {
   "cell_type": "markdown",
   "metadata": {},
   "source": [
    "# 2. Unbounded Grids: the Semidiscrete Fourier Transform"
   ]
  },
  {
   "cell_type": "markdown",
   "metadata": {},
   "source": [
    "## Aliasing\n"
   ]
  },
  {
   "cell_type": "code",
   "execution_count": null,
   "metadata": {},
   "outputs": [],
   "source": [
    "h = 0.25\n",
    "k1 = π/(4h)\n",
    "k2 = 9π/(4h)"
   ]
  },
  {
   "cell_type": "code",
   "execution_count": null,
   "metadata": {},
   "outputs": [],
   "source": [
    "using PyPlot"
   ]
  },
  {
   "cell_type": "code",
   "execution_count": null,
   "metadata": {},
   "outputs": [],
   "source": [
    "x0 = -1:h:1\n",
    "xx = -1:0.01:1\n",
    "\n",
    "y01 = sin.(k1.*x0)\n",
    "y02 = sin.(k2.*x0)\n",
    "yy1 = sin.(k1.*xx)\n",
    "yy2 = sin.(k2.*xx);\n"
   ]
  },
  {
   "cell_type": "code",
   "execution_count": null,
   "metadata": {},
   "outputs": [],
   "source": [
    "plot(xx, yy1 )\n",
    "plot(xx, yy2)\n",
    "plot(x0, y01, \"bo\")"
   ]
  },
  {
   "cell_type": "markdown",
   "metadata": {},
   "source": [
    "## Função `sinc`\n",
    "\n",
    "$$\n",
    "\\text{sinc}(x) = \\frac{\\sin\\pi x}{\\pi x}\n",
    "$$"
   ]
  },
  {
   "cell_type": "code",
   "execution_count": null,
   "metadata": {},
   "outputs": [],
   "source": [
    "xx = -15:0.01:15\n",
    "yy = sinc.(xx)\n",
    "plot(xx, yy, color=\"k\")\n",
    "axhline(0, ls=\"--\", color=\"k\")\n",
    "for i in 1:15\n",
    "    axvline(i, ls=\":\", color=\"r\")\n",
    "    axvline(-i, ls=\":\", color=\"b\")\n",
    "end"
   ]
  },
  {
   "cell_type": "markdown",
   "metadata": {},
   "source": [
    "## Program 3"
   ]
  },
  {
   "cell_type": "code",
   "execution_count": null,
   "metadata": {},
   "outputs": [],
   "source": [
    "fun1(x) = float(x==0)\n",
    "fun2(x) = float(abs(x) <= 3)\n",
    "fun3(x) = max(0.0, 1-abs(x)/3)\n",
    "\n",
    "function plotfun(plt, h, xmax, f)\n",
    "    x = -xmax:h:xmax\n",
    "    xx = -xmax-h/20:h/40:xmax+h/20\n",
    "    \n",
    "    v = f.(x)\n",
    "    \n",
    "    subplot(3,1,plt)\n",
    "    plot(x, v, \"ko\")\n",
    "    nxx = length(xx)\n",
    "    nx = length(x)\n",
    "    p = zeros(nxx)\n",
    "    for i = 1:nx\n",
    "        p .= p .+ v[i] .* sinc.((xx .- x[i])./h)\n",
    "    end\n",
    "    \n",
    "    plot(xx, p, \"k\")\n",
    "end\n"
   ]
  },
  {
   "cell_type": "code",
   "execution_count": null,
   "metadata": {},
   "outputs": [],
   "source": [
    "plotfun(1, 1.0, 10.0, fun1)\n",
    "plotfun(2, 0.5, 10.0, fun2)\n",
    "plotfun(3, 1.0, 10.0, fun3)\n",
    "\n",
    "\n"
   ]
  },
  {
   "cell_type": "markdown",
   "metadata": {},
   "source": [
    "# Exercises"
   ]
  },
  {
   "cell_type": "markdown",
   "metadata": {},
   "source": [
    "## Exercise 2.1\n",
    "\n",
    "Let $\\mathcal{F}$ denote the Fourier transform operator defined by (2.1), so that $u,v \\in L^2(\\mathbb{R})$ have transforms $\\hat{u}=\\mathcal{F}\\{u\\}$, $\\hat{v}=\\mathcal{F}\\{v\\}$. Verify the following properties. "
   ]
  },
  {
   "cell_type": "markdown",
   "metadata": {},
   "source": [
    "### (a) Linearity\n",
    "$$\n",
    "\\mathcal{F}\\{u+v\\} = \\int_{-\\infty}^\\infty e^{-ikx}\\left[u(x) + v(x)\\right]\\:dx = \\int_{-\\infty}^\\infty\\left[e^{-ikx}u(x) + e^{-ikx}v(x)\\right]\\:dx = \\int_{-\\infty}^\\infty e^{-ikx}u(x) \\:dx + \\int_{-\\infty}^\\infty e^{-ikx}v(x) \\:dx = \\mathcal{F}\\{u\\} + \\mathcal{F}\\{v\\} = \\hat{u}(k) + \\hat{v}{k}\n",
    "$$    \n",
    "\n",
    "$$\n",
    "\\mathcal{F}\\{cu\\} = \\int_{-\\infty}^\\infty e^{-ikx}\\left[cu(x)\\right]\\:dx = c \\int_{-\\infty}^\\infty e^{-ikx}u(x)\\:dx =  c\\mathcal{F}\\{u\\} = c\\hat{u}(k) \n",
    "$$\n"
   ]
  },
  {
   "cell_type": "markdown",
   "metadata": {},
   "source": [
    "### (b) Translation\n",
    "Substitute $y = x + x_0$, so that $dy= dx$ and $x = y-x_0$\n",
    "$$\n",
    "\\mathcal{F}\\{u(x+x_0)\\} = \\int_{-\\infty}^\\infty e^{-ikx}u(x+x_0)\\:dx = \\int_{-\\infty}^\\infty e^{-ik(y - x_0)}u(y)\\:dy = \\int_{-\\infty}^\\infty e^{i k x_0}e^{-iky}u(y)\\:dy = e^{i k x_0} \\mathcal{F}\\{u\\} =  e^{i k x_0} \\hat{u}(k)\n",
    "$$    "
   ]
  },
  {
   "cell_type": "markdown",
   "metadata": {},
   "source": [
    "### (c) Modulation\n",
    "\n",
    "\\begin{align}\n",
    "\\mathcal{F}\\{e^{ik_0x}u(x)\\} = \\int_{-\\infty}^\\infty e^{-ikx}e^{ik_0x}u(x)\\:dx &=  \\int_{-\\infty}^\\infty e^{-ikx + ik_0x}u(x)\\:dx = \\\\ =  \\int_{-\\infty}^\\infty e^{-i(k-k_0)x}u(x)\\:dx  &=   \\hat{u}(k-k_0)\n",
    "\\end{align}"
   ]
  },
  {
   "cell_type": "markdown",
   "metadata": {},
   "source": [
    "### (d) Dilation\n",
    "\n",
    "Substitute $y = cx$ so that $dy= c dx$ and $x = y/c$\n",
    "\n",
    "\\begin{align}\n",
    "\\mathcal{F}\\{u(cx)\\} = \\int_{-\\infty}^\\infty e^{-ikx}u(cx)\\:dx =  \\int_{-\\infty}^\\infty e^{-iky/c}u(y)\\:\\frac{dy}{c} =    \\frac{1}{c}\\hat{u}\\left(\\frac{k}{c}\\right)\n",
    "\\end{align}"
   ]
  },
  {
   "cell_type": "markdown",
   "metadata": {},
   "source": [
    "### (e) Conjugation\n",
    "\n",
    "Substitute $y = cx$ so that $dy= c dx$ and $x = y/c$\n",
    "\n",
    "\\begin{align}\n",
    "\\mathcal{F}\\{\\overline{u(cx)}\\} = \\int_{-\\infty}^\\infty e^{-ikx}\\overline{u(x)}\\:dx &=  \\int_{-\\infty}^\\infty \\overline{e^{+ikx}u(x)}\\:dx = \\\\\n",
    "\\overline{\\int_{-\\infty}^\\infty e^{+ikx}u(x)\\:dx} &= \\overline{\\hat{u}(-k)}\n",
    "\\end{align}"
   ]
  },
  {
   "cell_type": "markdown",
   "metadata": {},
   "source": [
    "### Differentiation\n",
    "\n",
    "$$\n",
    "d( u e^{-ikx}) = u(x)(-ik) e^{-ikx}dx + u_x e^{-ikx}dx\n",
    "$$\n",
    "\n",
    "Therefore, \n",
    "$$\n",
    "u_x e^{-ikx} dx = d(ue^{-ikx}) + ik u(x) e^{-ikx}dx\n",
    "$$\n",
    "\n",
    "Substituting into the Fourier transform:\n",
    "\n",
    "$$\n",
    "\\mathcal{F}\\{u_x\\} = \\int_{-\\infty}^\\infty e^{-ikx}u_x\\:dx = \n",
    "\\int_{-\\infty}^\\infty ik u(x) e^{-ikx}\\:dx + \\int_{-\\infty}^\\infty \\:d\\left(e^{-ikx}u\\right)\n",
    "$$\n",
    "\n",
    "But for the Fourier transform to converge, \n",
    "\n",
    "$$\n",
    "\\lim_{x\\longrightarrow\\pm\\infty} u(x) = 0\n",
    "$$\n",
    "\n",
    "and we have\n",
    "$$\n",
    "\\mathcal{F}\\{u_x\\} = \\int_{-\\infty}^\\infty ik u(x) e^{-ikx}\\:dx = ik\\hat{u}(k)\n",
    "$$\n",
    "\n"
   ]
  },
  {
   "cell_type": "markdown",
   "metadata": {},
   "source": [
    "### (g) Inversion\n",
    "\n",
    "$$\n",
    "\\mathcal{F}^{-1}\\{\\hat{u}\\}(x)= \\frac{1}{2\\pi}\\int_{\\infty}^{\\infty} \\hat{u}(k) e^{ikx}\\:dk\n",
    "$$\n",
    "\n",
    "$$\n",
    "\\mathcal{F}^{-1}\\{u\\}(x)= \\frac{1}{2\\pi}\\int_{\\infty}^{\\infty} u(k) e^{ikx}\\:dk\n",
    "$$\n",
    "Changing the names of the variables, $x\\longrightarrow k$ and $k\\longrightarrow x$, \n",
    "$$\n",
    "\\mathcal{F}^{-1}\\{u\\}(k)= \\frac{1}{2\\pi}\\int_{\\infty}^{\\infty} u(x) e^{ikx}\\:dx = \\frac{1}{2\\pi} \\hat{u}(-k)\n",
    "$$\n",
    "\n",
    "\n",
    "\n"
   ]
  },
  {
   "cell_type": "markdown",
   "metadata": {},
   "source": [
    "## Exercise 2.2\n",
    "\n",
    "Let $u \\in L^2(\\mathbb{R})$ hava Fourier transform $\\hat{u}$. Verify the following identities. *( a hermitian (skew-hermitian) function $f(x)$ is one with $f(-x) = \\overline{f(x)}$ ($f(-x) = - \\overline{f(x)}$).)*"
   ]
  },
  {
   "cell_type": "markdown",
   "metadata": {},
   "source": [
    "\n",
    "### (a) $u(x)$ is even (odd) $\\Longleftrightarrow$ $\\hat{u}(k)$ is even (odd)"
   ]
  },
  {
   "cell_type": "markdown",
   "metadata": {},
   "source": [
    "$u(x)$ is even\n",
    "\n",
    "$$\n",
    "\\hat{u}(-k) = \\int_{-\\infty}^\\infty e^{ikx} u(x)\\:dx = \n",
    "\\int_{-\\infty}^\\infty e^{ikx} u(-x)\\:dx = \\\\\n",
    "-\\int_{y=+\\infty}^{y=-\\infty} e^{-iky} u(y)\\:dy = \n",
    "\\int_{-\\infty}^\\infty e^{-ikx} u(x)\\:dx = \\hat{u}(k)\n",
    "$$\n",
    "\n",
    "$\\hat{u}(k)$ is even\n",
    "\n",
    "$$\n",
    "u(-x) = \\frac{1}{2\\pi} \\int_{-\\infty}^\\infty e^{-ikx} \\hat{u}(k)\\:dk = \n",
    "\\frac{1}{2\\pi} \\int_{-\\infty}^\\infty e^{-ikx} \\hat{u}(-k)\\:dk = \\\\\n",
    "\\frac{-1}{2\\pi} \\int_{l=+\\infty}^{-\\infty} e^{ilx} \\hat{u}(l)\\:dl = \n",
    "\\frac{1}{2\\pi} \\int_{-\\infty}^\\infty e^{ikx} \\hat{u}(k)\\:dk = u(x)\n",
    "$$"
   ]
  },
  {
   "cell_type": "markdown",
   "metadata": {},
   "source": [
    "$u(x)$ is odd\n",
    "\n",
    "$$\n",
    "\\hat{u}(-k) = \\int_{-\\infty}^\\infty e^{ikx} u(x)\\:dx = \n",
    "-\\int_{-\\infty}^\\infty e^{ikx} u(-x)\\:dx = \\\\\n",
    "+\\int_{y=+\\infty}^{y=-\\infty} e^{-iky} u(y)\\:dy = \n",
    "-\\int_{-\\infty}^\\infty e^{-ikx} u(x)\\:dx = -\\hat{u}(k)\n",
    "$$\n",
    "\n",
    "$\\hat{u}(k)$ is odd\n",
    "\n",
    "$$\n",
    "u(-x) = \\frac{1}{2\\pi} \\int_{-\\infty}^\\infty e^{-ikx} \\hat{u}(k)\\:dk = \n",
    "-\\frac{1}{2\\pi} \\int_{-\\infty}^\\infty e^{-ikx} \\hat{u}(-k)\\:dk = \\\\\n",
    "+\\frac{-1}{2\\pi} \\int_{l=+\\infty}^{-\\infty} e^{ilx} \\hat{u}(l)\\:dl = \n",
    "-\\frac{1}{2\\pi} \\int_{-\\infty}^\\infty e^{ikx} \\hat{u}(k)\\:dk = -u(x)\n",
    "$$"
   ]
  },
  {
   "cell_type": "markdown",
   "metadata": {},
   "source": [
    "### (b) $u(x)$ is real (imaginary) $\\Longleftrightarrow$ $\\hat{u}(k)$ is hermitian (skew-hermitian)"
   ]
  },
  {
   "cell_type": "markdown",
   "metadata": {},
   "source": [
    "$u(x)$ is real\n",
    "\n",
    "$$\n",
    "\\hat{u}(-k) = \\int_{-\\infty}^\\infty e^{ikx} u(x)\\:dx = \n",
    "\\int_{-\\infty}^\\infty \\overline{e^{-ikx}} \\overline{u(x)}\\:dx = \n",
    "\\overline{\\int_{-\\infty}^\\infty e^{-ikx} u(x)\\:dx} = \\overline{\\hat{u}(k)}\n",
    "$$\n",
    "\n",
    "$\\hat{u}(k)$ is hermitian\n",
    "\n",
    "$$\n",
    "u(x) = \\frac{1}{2\\pi}\\int_{-\\infty}^\\infty \\hat{u}(k) e^{ikx}\\:dk = \n",
    "\\frac{1}{2\\pi}\\int_{-\\infty}^\\infty \\overline{\\hat{u}(-k)} \\overline{e^{-ikx}} \\:dk = \\\\\n",
    "\\overline{ \\frac{1}{2\\pi}\\int_{k=-\\infty}^{k=\\infty} \\hat{u}(-k) e^{-ikx} \\:dk } = - \\overline{ \\frac{1}{2\\pi}\\int_{l=+\\infty}^{l=-\\infty} \\hat{u}(l) e^{ilx} \\:dl} = \\\\\n",
    "\\overline{ \\frac{1}{2\\pi}\\int_{-\\infty}^{\\infty} \\hat{u}(k) e^{ikx} \\:dk} = \\overline{u}(x)\n",
    "$$\n",
    "\n",
    "If $u(x) = \\overline{u(x)}$, $u(x)$ is real."
   ]
  },
  {
   "cell_type": "markdown",
   "metadata": {},
   "source": [
    "$u(x)$ is imaginary\n",
    "\n",
    "$$\n",
    "\\hat{u}(-k) = \\int_{-\\infty}^\\infty e^{ikx} u(x)\\:dx = \n",
    "\\int_{-\\infty}^\\infty \\overline{e^{-ikx}} (-\\overline{u(x)})\\:dx = \n",
    "-\\overline{\\int_{-\\infty}^\\infty e^{-ikx} u(x)\\:dx} = -\\overline{\\hat{u}(k)}\n",
    "$$\n",
    "\n",
    "$\\hat{u}(k)$ is skew-hermitian\n",
    "\n",
    "$$\n",
    "u(x) = \\frac{1}{2\\pi}\\int_{-\\infty}^\\infty \\hat{u}(k) e^{ikx}\\:dk = \n",
    "\\frac{1}{2\\pi}\\int_{-\\infty}^\\infty \\left[-\\overline{\\hat{u}(-k)} \\right]\\overline{e^{-ikx}} \\:dk = \\\\\n",
    "- \\overline{ \\frac{1}{2\\pi}\\int_{k=-\\infty}^{k=\\infty} \\hat{u}(-k) e^{-ikx} \\:dk } = + \\overline{ \\frac{1}{2\\pi}\\int_{l=+\\infty}^{l=-\\infty} \\hat{u}(l) e^{ilx} \\:dl} = \\\\\n",
    "-\\overline{ \\frac{1}{2\\pi}\\int_{-\\infty}^{\\infty} \\hat{u}(k) e^{ikx} \\:dk} = -\\overline{u}(x)\n",
    "$$\n",
    "\n",
    "\n",
    "If $u(x) = -\\overline{u(x)}$, $u(x)$ is imaginary."
   ]
  },
  {
   "cell_type": "markdown",
   "metadata": {},
   "source": [
    "### (c) $u(x)$ is real and even $\\Longleftrightarrow$ $\\hat{u}(k)$ is real and even\n",
    "\n",
    " * $u(x)$ is real and even $\\Longrightarrow$ $\\hat{u}(k)$.<br>\n",
    "   From (a), $\\hat{u}(k)$ is even. From (b), $\\hat{u}(k)$ is hermitian. An even hermitian funcion is real.\n",
    "\n",
    " * $\\hat{u}(k)$ is real and even $\\Longrightarrow$ $u(x)$.<br>\n",
    "   From (a), $u(x)$ is even. From (b) $u(x)$ is real.\n"
   ]
  },
  {
   "cell_type": "markdown",
   "metadata": {},
   "source": [
    "### (d) $u(x)$ is real and odd $\\Longleftrightarrow$ $\\hat{u}{k}$ is imaginary and odd\n",
    " \n",
    " * $u(x)$ is real and odd $\\Longrightarrow$ $\\hat{u}(k)$.<br>\n",
    "   From (a), $\\hat{u}(k)$ is odd. \n",
    "   From (b), $\\hat{u}(k)$ is skew-hermitian and and odd and skew-hermitian function is imaginary.\n",
    " \n",
    " * $\\hat{u}(k)$ is imaginary and odd $\\Longrightarrow$ $u(x)$.<br>\n",
    "   From (a), $u(x)$ is odd. Since $\\hat{u}(k)$ is odd and imaginary, it is is skew-hermitian and therefore, $u(x)$ is imaginary\n",
    "\n",
    "  \n"
   ]
  },
  {
   "cell_type": "markdown",
   "metadata": {},
   "source": [
    "### (e) $u(x)$ is imaginary and even $\\Longleftrightarrow$ $\\hat{u}(k)$ is imaginary and even\n",
    "\n",
    " * $u(x)$ is imaginary and even $\\Longrightarrow$ $\\hat{u}(k)$.<br>\n",
    "   From (a), $\\hat{u}(k)$ is even. From (b), $\\hat{u}(k)$ is skew-hermitian. An even skew-hermitian even funcion can only be imaginary\n",
    "\n",
    " * $\\hat{u}(k)$ is imaginary and even $\\Longrightarrow$ $u(x)$.<br>\n",
    "   From (a), $u(x)$ is even. From (b) $u(x)$ is imaginary.\n"
   ]
  },
  {
   "cell_type": "markdown",
   "metadata": {},
   "source": [
    "### (f) $u(x)$ is imaginary and odd $\\Longleftrightarrow$ $\\hat{u}(k)$ is real and odd\n",
    "\n",
    " * $u(x)$ is imaginary and odd $\\Longrightarrow$ $\\hat{u}(k)$.<br>\n",
    "   From (a), $\\hat{u}(k)$ is odd. From (b), $\\hat{u}(k)$ is skew-hermitian. An odd skew-hermitian funcion can only be real\n",
    "\n",
    " * $\\hat{u}(k)$ is real and odd $\\Longrightarrow$ $u(x)$.<br>\n",
    "   From (a), $u(x)$ is odd. Buta an odd and real function is skew-hermitian and therefore $u(x)$ is imaginary.\n"
   ]
  },
  {
   "cell_type": "markdown",
   "metadata": {},
   "source": [
    "## Exercise 2.3\n",
    "Execute the command plot(sin.(1:3000),\".\") in Julia . What do you see? What does this have to do with aliasing? Give a quantitative answer, explaining exactly what frequency is being aliased by your eye and brain to what other frequency. Then, for fun, replace 3000 by 1000 to get a gure somewhat harder to explain. (This problem comes from Str91)."
   ]
  },
  {
   "cell_type": "code",
   "execution_count": null,
   "metadata": {},
   "outputs": [],
   "source": [
    "plot(sin.(1:3000), \".-\")"
   ]
  },
  {
   "cell_type": "code",
   "execution_count": null,
   "metadata": {},
   "outputs": [],
   "source": [
    "plot(sin.(1:1000), \".\")"
   ]
  },
  {
   "cell_type": "code",
   "execution_count": null,
   "metadata": {},
   "outputs": [],
   "source": []
  }
 ],
 "metadata": {
  "@webio": {
   "lastCommId": null,
   "lastKernelId": null
  },
  "kernelspec": {
   "display_name": "Julia 1.4.1",
   "language": "julia",
   "name": "julia-1.4"
  },
  "language_info": {
   "file_extension": ".jl",
   "mimetype": "application/julia",
   "name": "julia",
   "version": "1.4.1"
  }
 },
 "nbformat": 4,
 "nbformat_minor": 4
}
